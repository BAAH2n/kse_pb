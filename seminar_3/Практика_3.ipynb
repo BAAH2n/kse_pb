{
  "nbformat": 4,
  "nbformat_minor": 0,
  "metadata": {
    "colab": {
      "provenance": []
    },
    "kernelspec": {
      "name": "python3",
      "display_name": "Python 3"
    },
    "language_info": {
      "name": "python"
    }
  },
  "cells": [
    {
      "cell_type": "markdown",
      "source": [
        "### Завдання 1\n",
        "Користувач вводить ціле число.\n",
        "\n",
        "Треба вивести \"Парне\", якщо число ділиться на 2, інакше нічого не виводити."
      ],
      "metadata": {
        "id": "LJ_FbqJBF4Q5"
      }
    },
    {
      "cell_type": "code",
      "source": [
        "number = float(input (\"Введіть ціле число: \"))\n",
        "if number % 1 == 0:\n",
        "  if number % 2 == 0:\n",
        "    print (\"Парне\")\n",
        "  else:\n",
        "    print (\"Не парне\")\n",
        "else:\n",
        "  print (\"Ви ввели не ціле число\")"
      ],
      "metadata": {
        "colab": {
          "base_uri": "https://localhost:8080/"
        },
        "id": "Ja1XW5R0T3VW",
        "outputId": "ce3ae1e0-7064-4dea-ed4e-5cce71fd94e6"
      },
      "execution_count": 6,
      "outputs": [
        {
          "output_type": "stream",
          "name": "stdout",
          "text": [
            "Введіть ціле число: 5.34\n",
            "Ви ввели не ціле число\n"
          ]
        }
      ]
    },
    {
      "cell_type": "markdown",
      "source": [
        "### Завдання 2\n",
        "Користувач вводить середній бал (число з плаваючою комою). Якщо бал більше або дорівнює 90 — вивести \"Відмінник\", якщо від 75 до 89 включно — \"Молодець\", інакше — \"Старайся більше\"."
      ],
      "metadata": {
        "id": "yJY6dvisF6b_"
      }
    },
    {
      "cell_type": "code",
      "source": [
        "grade = float(input(\"Введіть свій середній бал: \"))\n",
        "if grade >= 90:\n",
        "  print(\"Відмінник\")\n",
        "elif 75<=grade<90:\n",
        "  print(\"Молодець\")\n",
        "else:\n",
        "  print(\"Старайся більше\")"
      ],
      "metadata": {
        "colab": {
          "base_uri": "https://localhost:8080/"
        },
        "id": "W8VxB_pnVSLT",
        "outputId": "83d25db0-811c-4313-fa96-f26a16d6b9d8"
      },
      "execution_count": 8,
      "outputs": [
        {
          "output_type": "stream",
          "name": "stdout",
          "text": [
            "Введіть свій середній бал: 70\n",
            "Старайся більше\n"
          ]
        }
      ]
    },
    {
      "cell_type": "markdown",
      "source": [
        "### Завдання 3\n",
        "Треба вивести таблицю цін (від 10 до 100 грн з кроком 5), де до кожної ціни додається ПДВ 20%.\n",
        "Виводити рядки у вигляді:\n",
        "**Ціна без ПДВ: 10 грн → з ПДВ: 12.0 грн**"
      ],
      "metadata": {
        "id": "rJyqmM2FF6it"
      }
    },
    {
      "cell_type": "code",
      "source": [
        "for i in range(10, 101, 5):\n",
        "  print(\"Ціна без ПДВ: {} грн → з ПДВ: {} грн\".format(i, i*1.2))\n"
      ],
      "metadata": {
        "colab": {
          "base_uri": "https://localhost:8080/"
        },
        "id": "dccNOJ_AWFMp",
        "outputId": "706fbd85-1c14-47e2-ce2f-4e07459d6cd4"
      },
      "execution_count": 9,
      "outputs": [
        {
          "output_type": "stream",
          "name": "stdout",
          "text": [
            "Ціна без ПДВ: 10 грн → з ПДВ: 12.0 грн\n",
            "Ціна без ПДВ: 15 грн → з ПДВ: 18.0 грн\n",
            "Ціна без ПДВ: 20 грн → з ПДВ: 24.0 грн\n",
            "Ціна без ПДВ: 25 грн → з ПДВ: 30.0 грн\n",
            "Ціна без ПДВ: 30 грн → з ПДВ: 36.0 грн\n",
            "Ціна без ПДВ: 35 грн → з ПДВ: 42.0 грн\n",
            "Ціна без ПДВ: 40 грн → з ПДВ: 48.0 грн\n",
            "Ціна без ПДВ: 45 грн → з ПДВ: 54.0 грн\n",
            "Ціна без ПДВ: 50 грн → з ПДВ: 60.0 грн\n",
            "Ціна без ПДВ: 55 грн → з ПДВ: 66.0 грн\n",
            "Ціна без ПДВ: 60 грн → з ПДВ: 72.0 грн\n",
            "Ціна без ПДВ: 65 грн → з ПДВ: 78.0 грн\n",
            "Ціна без ПДВ: 70 грн → з ПДВ: 84.0 грн\n",
            "Ціна без ПДВ: 75 грн → з ПДВ: 90.0 грн\n",
            "Ціна без ПДВ: 80 грн → з ПДВ: 96.0 грн\n",
            "Ціна без ПДВ: 85 грн → з ПДВ: 102.0 грн\n",
            "Ціна без ПДВ: 90 грн → з ПДВ: 108.0 грн\n",
            "Ціна без ПДВ: 95 грн → з ПДВ: 114.0 грн\n",
            "Ціна без ПДВ: 100 грн → з ПДВ: 120.0 грн\n"
          ]
        }
      ]
    },
    {
      "cell_type": "markdown",
      "source": [
        "### Завдання 4\n",
        "Користувач вводить три різні числа. Вивести найбільше з них."
      ],
      "metadata": {
        "id": "shG0m_deF6WU"
      }
    },
    {
      "cell_type": "code",
      "source": [
        "number_1 = float(input(\"Введіть перше число: \"))\n",
        "number_2 = float(input(\"Введіть друге число: \"))\n",
        "number_3 = float(input(\"Введіть третє число: \"))\n",
        "if number_1 > number_2 > number_3:\n",
        "  print(number_1)\n",
        "elif number_2 > number_3 > number_1:\n",
        "  print(number_2)\n",
        "else:\n",
        "  print(number_3)"
      ],
      "metadata": {
        "colab": {
          "base_uri": "https://localhost:8080/"
        },
        "id": "BtQyrpn8W_UF",
        "outputId": "1fed7d27-de3f-4cb8-fb24-a81d99f22606"
      },
      "execution_count": 14,
      "outputs": [
        {
          "output_type": "stream",
          "name": "stdout",
          "text": [
            "Введіть перше число: 3\n",
            "Введіть друге число: 43\n",
            "Введіть третє число: 1\n",
            "1.0\n"
          ]
        }
      ]
    },
    {
      "cell_type": "markdown",
      "source": [
        " ### Завдання 5\n",
        " У вас є 1000 грн. Ви щомісяця відкладаєте по 300 грн. Порахуйте, скільки місяців потрібно, щоб накопичити принаймні 5000 грн.\n",
        "Після кожного місяця виводьте суму та номер місяця."
      ],
      "metadata": {
        "id": "gningPkYHmuq"
      }
    },
    {
      "cell_type": "code",
      "source": [
        "sum = 1000\n",
        "month = 0\n",
        "while sum <= 5000:\n",
        "  sum = sum + 300\n",
        "  month += 1\n",
        "  print(\"{}. {}\".format(month, sum))\n",
        "print(\"Ви накопичете за {} місяців\".format(month))"
      ],
      "metadata": {
        "colab": {
          "base_uri": "https://localhost:8080/"
        },
        "id": "7Tus87EfYCps",
        "outputId": "3ad9e81f-2064-44aa-e432-ba2aa5f051d4"
      },
      "execution_count": 22,
      "outputs": [
        {
          "output_type": "stream",
          "name": "stdout",
          "text": [
            "1. 1300\n",
            "2. 1600\n",
            "3. 1900\n",
            "4. 2200\n",
            "5. 2500\n",
            "6. 2800\n",
            "7. 3100\n",
            "8. 3400\n",
            "9. 3700\n",
            "10. 4000\n",
            "11. 4300\n",
            "12. 4600\n",
            "13. 4900\n",
            "14. 5200\n",
            "Ви накопичете за 14 місяців\n"
          ]
        }
      ]
    },
    {
      "cell_type": "markdown",
      "source": [
        "### Завдання 6\n",
        "Користувач вводить рік. Вивести \"Високосний\", якщо рік ділиться на 4, але не ділиться на 100, або ділиться на 400. Інакше вивести \"Звичайний рік\".\n",
        "\n"
      ],
      "metadata": {
        "id": "l7DR_hMJF6f4"
      }
    },
    {
      "cell_type": "code",
      "source": [
        "year = int(input(\"Введіть рік: \"))\n",
        "if (year%4==0 and not year%100==0) or year%400==0:\n",
        "  print(\"Високосний рік\")\n",
        "else:\n",
        "  print(\"Звичайний рік\")"
      ],
      "metadata": {
        "colab": {
          "base_uri": "https://localhost:8080/"
        },
        "id": "5_DJGjKLZrLH",
        "outputId": "4d055365-b843-4b3e-b8ef-e2e6e5d13670"
      },
      "execution_count": 25,
      "outputs": [
        {
          "output_type": "stream",
          "name": "stdout",
          "text": [
            "Введіть рік: 2025\n",
            "Звичайний рік\n"
          ]
        }
      ]
    },
    {
      "cell_type": "markdown",
      "source": [
        "### Завдання 7\n",
        "Пропусти кратні 4 (з continue)\n",
        "Виведи числа від 1 до 20, але пропусти ті, що діляться на 4. Для цього використай continue."
      ],
      "metadata": {
        "id": "Z2vpSoa8F6oc"
      }
    },
    {
      "cell_type": "code",
      "source": [
        "x=0\n",
        "while x < 20:\n",
        "  x += 1\n",
        "  if x % 4 != 0:\n",
        "    print(x)\n",
        "  else:\n",
        "    continue"
      ],
      "metadata": {
        "colab": {
          "base_uri": "https://localhost:8080/"
        },
        "id": "SbOcgwrvapj-",
        "outputId": "2c041ead-c364-49d1-b473-4e44958f8069"
      },
      "execution_count": 27,
      "outputs": [
        {
          "output_type": "stream",
          "name": "stdout",
          "text": [
            "1\n",
            "2\n",
            "3\n",
            "5\n",
            "6\n",
            "7\n",
            "9\n",
            "10\n",
            "11\n",
            "13\n",
            "14\n",
            "15\n",
            "17\n",
            "18\n",
            "19\n"
          ]
        }
      ]
    },
    {
      "cell_type": "markdown",
      "source": [
        "### Завдання 8\n",
        "Ви взяли кредит на 10000 грн і щомісяця платите 1200 грн. Але банк нараховує 2% від залишку щомісяця. Порахуйте, скільки місяців знадобиться, щоб повністю погасити кредит.\n",
        "Після кожного місяця виводьте залишок боргу.\n",
        "\n",
        "\n"
      ],
      "metadata": {
        "id": "TT4R2gi_HTkq"
      }
    },
    {
      "cell_type": "code",
      "source": [
        "credit = 10000\n",
        "month = 0\n",
        "while credit > 0:\n",
        "  credit = credit*1.02-1200\n",
        "  month += 1\n",
        "  if credit < 0:\n",
        "    print(\"{}. {}\".format(month, 0))\n",
        "  else:\n",
        "    print(\"{}. {}\".format(month, credit))\n",
        "print(\"Ви заплатите за {} місяців\".format(month))\n",
        ""
      ],
      "metadata": {
        "colab": {
          "base_uri": "https://localhost:8080/"
        },
        "id": "9zJPztYIbbC-",
        "outputId": "9882491a-e53c-414a-bec0-1822cb7b2000"
      },
      "execution_count": 33,
      "outputs": [
        {
          "output_type": "stream",
          "name": "stdout",
          "text": [
            "1. 9000.0\n",
            "2. 7980.0\n",
            "3. 6939.6\n",
            "4. 5878.392000000001\n",
            "5. 4795.95984\n",
            "6. 3691.879036800001\n",
            "7. 2565.716617536001\n",
            "8. 1417.0309498867214\n",
            "9. 245.37156888445588\n",
            "10. 0\n",
            "Ви заплатите за 10 місяців\n"
          ]
        }
      ]
    },
    {
      "cell_type": "markdown",
      "source": [
        "\n",
        "### Бонусне завдання (0.5 бали)\n",
        "Програма нескінченно запитує:\n",
        "\"Введіть ваш місячний дохід або '0' для виходу:\"\n",
        "\n",
        "*   Якщо ввів 0 — виходимо через break.\n",
        "*   Якщо число < 0 — виводимо \"Дохід не може бути від’ємним\" і повторюємо (continue).\n",
        "*   Інакше — виводимо \"Ваш дохід збережено: ...\". Додаємо це значення до загальної суми і знову питаємо.\n",
        "\n",
        "\n",
        "\n",
        "\n",
        "\n"
      ],
      "metadata": {
        "id": "x-uGEFsbF6uM"
      }
    },
    {
      "cell_type": "code",
      "source": [
        "sum = 0\n",
        "while 0 == 0:\n",
        "  income = int(input(\"Введіть ваш місячний дохід або '0' для виходу: \"))\n",
        "  if income == 0:\n",
        "    break\n",
        "  elif income < 0:\n",
        "    print(\"Дохід не може бути від’ємним\")\n",
        "  else:\n",
        "    sum = sum + income\n",
        "    print(\"Ваш дохід збережено:\", sum)\n",
        "\n"
      ],
      "metadata": {
        "colab": {
          "base_uri": "https://localhost:8080/"
        },
        "id": "p76cJfbec26_",
        "outputId": "10a8af95-b26a-4296-ba02-501e5f703f73"
      },
      "execution_count": 34,
      "outputs": [
        {
          "name": "stdout",
          "output_type": "stream",
          "text": [
            "Введіть ваш місячний дохід або '0' для виходу: 43\n",
            "Ваш дохід збережено: 43\n",
            "Введіть ваш місячний дохід або '0' для виходу: 2634\n",
            "Ваш дохід збережено: 2677\n",
            "Введіть ваш місячний дохід або '0' для виходу: 63463\n",
            "Ваш дохід збережено: 66140\n",
            "Введіть ваш місячний дохід або '0' для виходу: -3\n",
            "Дохід не може бути від’ємним\n",
            "Введіть ваш місячний дохід або '0' для виходу: 32\n",
            "Ваш дохід збережено: 66172\n",
            "Введіть ваш місячний дохід або '0' для виходу: 0\n"
          ]
        }
      ]
    }
  ]
}